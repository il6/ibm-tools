{
 "cells": [
  {
   "cell_type": "markdown",
   "id": "f56b80fc",
   "metadata": {},
   "source": [
    "# This is Title"
   ]
  },
  {
   "cell_type": "markdown",
   "id": "cd5c4e23",
   "metadata": {},
   "source": [
    "This is introduction.\n",
    "And this is second sentence of introduction."
   ]
  },
  {
   "cell_type": "markdown",
   "id": "0355b4de",
   "metadata": {},
   "source": [
    "List of data science languages:\n",
    "1. Python\n",
    "2. R\n",
    "3. Scala\n",
    "4. Julia\n",
    "5. Java"
   ]
  },
  {
   "cell_type": "markdown",
   "id": "7d7ff9a8",
   "metadata": {},
   "source": [
    "List of Data Science Libraries:\n",
    "1. pandas\n",
    "2. matplotlib\n",
    "3. numpy\n",
    "4. scikit-learn\n",
    "5. geopandas"
   ]
  },
  {
   "cell_type": "markdown",
   "id": "1ca41be2",
   "metadata": {},
   "source": [
    "List of Data Science Tools:\n",
    "1. Jupyter Notebook\n",
    "2. Anaconda\n",
    "3. Spider\n",
    "4. RStudio"
   ]
  },
  {
   "cell_type": "markdown",
   "id": "f67d82de",
   "metadata": {},
   "source": [
    "### Arithmetic expression examples\n",
    "\n",
    "$\\hat{Y} = \\hat{\\beta}_{0} + \\sum \\limits _{j=1} ^{p} X_{j}\\hat{\\beta}_{j} $\n"
   ]
  },
  {
   "cell_type": "code",
   "execution_count": 1,
   "id": "b15ca65f",
   "metadata": {},
   "outputs": [],
   "source": [
    "# Adding & Mutpliplying Numbers\n",
    "\n",
    "s = 10+20\n",
    "m = 10*20"
   ]
  },
  {
   "cell_type": "code",
   "execution_count": 2,
   "id": "6faddf84",
   "metadata": {},
   "outputs": [],
   "source": [
    "# Converting Minutes to Hours\n",
    "\n",
    "minutes = 98\n",
    "hours = minutes/60"
   ]
  },
  {
   "cell_type": "markdown",
   "id": "3f0b8e1a",
   "metadata": {},
   "source": [
    "List of Objectives:\n",
    "1. Objective 1\n",
    "2. Objective 2\n",
    "3. Objective 3\n",
    "4. Objective 4"
   ]
  },
  {
   "cell_type": "markdown",
   "id": "14e1ff40",
   "metadata": {},
   "source": [
    "Author: A T M Ragib Raihan"
   ]
  },
  {
   "cell_type": "code",
   "execution_count": null,
   "id": "cd2c8654",
   "metadata": {},
   "outputs": [],
   "source": []
  }
 ],
 "metadata": {
  "kernelspec": {
   "display_name": "Python 3 (ipykernel)",
   "language": "python",
   "name": "python3"
  },
  "language_info": {
   "codemirror_mode": {
    "name": "ipython",
    "version": 3
   },
   "file_extension": ".py",
   "mimetype": "text/x-python",
   "name": "python",
   "nbconvert_exporter": "python",
   "pygments_lexer": "ipython3",
   "version": "3.11.2"
  }
 },
 "nbformat": 4,
 "nbformat_minor": 5
}
